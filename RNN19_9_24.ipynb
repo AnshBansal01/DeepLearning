{
  "nbformat": 4,
  "nbformat_minor": 0,
  "metadata": {
    "colab": {
      "provenance": [],
      "toc_visible": true,
      "gpuType": "T4",
      "authorship_tag": "ABX9TyNw71pxYI5C7pPYJ/D2Q1YY",
      "include_colab_link": true
    },
    "kernelspec": {
      "name": "python3",
      "display_name": "Python 3"
    },
    "language_info": {
      "name": "python"
    },
    "accelerator": "GPU"
  },
  "cells": [
    {
      "cell_type": "markdown",
      "metadata": {
        "id": "view-in-github",
        "colab_type": "text"
      },
      "source": [
        "<a href=\"https://colab.research.google.com/github/AnshBansal01/DeepLearning/blob/main/RNN19_9_24.ipynb\" target=\"_parent\"><img src=\"https://colab.research.google.com/assets/colab-badge.svg\" alt=\"Open In Colab\"/></a>"
      ]
    },
    {
      "cell_type": "code",
      "execution_count": 4,
      "metadata": {
        "id": "u4i9RBwaN5o0"
      },
      "outputs": [],
      "source": [
        "from tensorflow.keras.layers import SimpleRNN, LSTM, GRU, Bidirectional,Dense, Embedding\n",
        "from tensorflow.keras.datasets import imdb\n",
        "from tensorflow.keras.models import Sequential\n",
        "import numpy as np"
      ]
    },
    {
      "cell_type": "markdown",
      "source": [
        "# Loading And Preparing data\n"
      ],
      "metadata": {
        "id": "EwgByWUROSov"
      }
    },
    {
      "cell_type": "code",
      "source": [
        "vocab_size = 5000\n",
        "(x_train, y_train), (x_test, y_test) =imdb.load_data(num_words=vocab_size)"
      ],
      "metadata": {
        "colab": {
          "base_uri": "https://localhost:8080/"
        },
        "id": "s1fnnsp_PAZS",
        "outputId": "f53f1807-debe-4914-ffda-267a2e1faec0"
      },
      "execution_count": 6,
      "outputs": [
        {
          "output_type": "stream",
          "name": "stdout",
          "text": [
            "Downloading data from https://storage.googleapis.com/tensorflow/tf-keras-datasets/imdb.npz\n",
            "\u001b[1m17464789/17464789\u001b[0m \u001b[32m━━━━━━━━━━━━━━━━━━━━\u001b[0m\u001b[37m\u001b[0m \u001b[1m2s\u001b[0m 0us/step\n"
          ]
        }
      ]
    },
    {
      "cell_type": "markdown",
      "source": [
        "# Getting the word Index\n"
      ],
      "metadata": {
        "id": "0sUI6O_NPME-"
      }
    },
    {
      "cell_type": "code",
      "source": [
        "word_idx = imdb.get_word_index()\n",
        "word_idx = {i: word for word, i in\n",
        "word_idx.items()}"
      ],
      "metadata": {
        "colab": {
          "base_uri": "https://localhost:8080/"
        },
        "id": "WQTQzPn5PQpo",
        "outputId": "c341e456-35db-4f58-b1cd-a57d78896f30"
      },
      "execution_count": 7,
      "outputs": [
        {
          "output_type": "stream",
          "name": "stdout",
          "text": [
            "Downloading data from https://storage.googleapis.com/tensorflow/tf-keras-datasets/imdb_word_index.json\n",
            "\u001b[1m1641221/1641221\u001b[0m \u001b[32m━━━━━━━━━━━━━━━━━━━━\u001b[0m\u001b[37m\u001b[0m \u001b[1m1s\u001b[0m 1us/step\n"
          ]
        }
      ]
    },
    {
      "cell_type": "markdown",
      "source": [
        "# Finding min and max review length"
      ],
      "metadata": {
        "id": "g9NZ0YdqPfvG"
      }
    },
    {
      "cell_type": "code",
      "source": [
        "print(\"Max length of a review::\", len(max((x_train+x_test),key=len)))\n",
        "print(\"Min length of a review::\", len(min((x_train+x_test),key=len)))"
      ],
      "metadata": {
        "colab": {
          "base_uri": "https://localhost:8080/"
        },
        "id": "DjDOEKZqPmQd",
        "outputId": "f6d539ea-9195-4509-a19e-d1de5a387a4f"
      },
      "execution_count": 8,
      "outputs": [
        {
          "output_type": "stream",
          "name": "stdout",
          "text": [
            "Max length of a review:: 2697\n",
            "Min length of a review:: 70\n"
          ]
        }
      ]
    },
    {
      "cell_type": "markdown",
      "source": [
        "# Padding Sequences"
      ],
      "metadata": {
        "id": "QRJG_rSTPtl4"
      }
    },
    {
      "cell_type": "code",
      "source": [
        "from tensorflow.keras.preprocessing import sequence\n",
        "max_words = 400\n",
        "x_train = sequence.pad_sequences(x_train,\n",
        "maxlen=max_words)\n",
        "x_test = sequence.pad_sequences(x_test,\n",
        "maxlen=max_words)"
      ],
      "metadata": {
        "id": "hkwroM1xPw58"
      },
      "execution_count": 9,
      "outputs": []
    },
    {
      "cell_type": "markdown",
      "source": [
        "# Splitting validation set"
      ],
      "metadata": {
        "id": "FhocxF1ZP9us"
      }
    },
    {
      "cell_type": "code",
      "source": [
        "x_valid, y_valid = x_train[:64], y_train[:64]\n",
        "x_train_, y_train_ = x_train[64:], y_train[64:]"
      ],
      "metadata": {
        "id": "9tJKwlzzQCqj"
      },
      "execution_count": 10,
      "outputs": []
    },
    {
      "cell_type": "markdown",
      "source": [
        "# Building the model"
      ],
      "metadata": {
        "id": "CAKvdeOEQHGI"
      }
    },
    {
      "cell_type": "code",
      "source": [
        "embd_len = 32\n",
        "RNN_model =Sequential(name=\"Simple_RNN\")\n",
        "RNN_model.add(Embedding(vocab_size,embd_len, input_length=max_words))"
      ],
      "metadata": {
        "colab": {
          "base_uri": "https://localhost:8080/"
        },
        "id": "430DUubZQKBx",
        "outputId": "915f4d8a-fc3b-48e6-8872-c2be47e60bb0"
      },
      "execution_count": 12,
      "outputs": [
        {
          "output_type": "stream",
          "name": "stderr",
          "text": [
            "/usr/local/lib/python3.10/dist-packages/keras/src/layers/core/embedding.py:90: UserWarning: Argument `input_length` is deprecated. Just remove it.\n",
            "  warnings.warn(\n"
          ]
        }
      ]
    },
    {
      "cell_type": "markdown",
      "source": [
        "# Adding simple RNN input and output layer"
      ],
      "metadata": {
        "id": "H3E45naIQUoe"
      }
    },
    {
      "cell_type": "code",
      "source": [
        "RNN_model.add(SimpleRNN(128,activation='tanh', return_sequences=False))\n",
        "RNN_model.add(Dense(1, activation='sigmoid'))"
      ],
      "metadata": {
        "id": "hEg4eOZ2QZnb"
      },
      "execution_count": 13,
      "outputs": []
    },
    {
      "cell_type": "markdown",
      "source": [
        "# Compiling the model"
      ],
      "metadata": {
        "id": "QFxchQIvQeGC"
      }
    },
    {
      "cell_type": "code",
      "source": [
        "RNN_model.compile(loss=\"binary_crossentropy\",optimizer='adam',metrics=['accuracy'])"
      ],
      "metadata": {
        "id": "FETPFfuTQh6K"
      },
      "execution_count": 17,
      "outputs": []
    },
    {
      "cell_type": "markdown",
      "source": [
        "# Training the model"
      ],
      "metadata": {
        "id": "T3P8RYkcRffr"
      }
    },
    {
      "cell_type": "code",
      "source": [
        "history = RNN_model.fit( x_train_, y_train_,\n",
        "batch_size=64,\n",
        "epochs=5,\n",
        "verbose=1,\n",
        "validation_data=(x_valid, y_valid))"
      ],
      "metadata": {
        "colab": {
          "base_uri": "https://localhost:8080/"
        },
        "id": "MUXU0Rt0Rif7",
        "outputId": "4844ef39-b1e6-4d74-a91e-71dabafbf8ef"
      },
      "execution_count": 20,
      "outputs": [
        {
          "output_type": "stream",
          "name": "stdout",
          "text": [
            "Epoch 1/5\n",
            "\u001b[1m390/390\u001b[0m \u001b[32m━━━━━━━━━━━━━━━━━━━━\u001b[0m\u001b[37m\u001b[0m \u001b[1m21s\u001b[0m 44ms/step - accuracy: 0.5280 - loss: 0.6931 - val_accuracy: 0.6406 - val_loss: 0.6652\n",
            "Epoch 2/5\n",
            "\u001b[1m390/390\u001b[0m \u001b[32m━━━━━━━━━━━━━━━━━━━━\u001b[0m\u001b[37m\u001b[0m \u001b[1m16s\u001b[0m 40ms/step - accuracy: 0.6492 - loss: 0.6245 - val_accuracy: 0.6875 - val_loss: 0.6036\n",
            "Epoch 3/5\n",
            "\u001b[1m390/390\u001b[0m \u001b[32m━━━━━━━━━━━━━━━━━━━━\u001b[0m\u001b[37m\u001b[0m \u001b[1m20s\u001b[0m 40ms/step - accuracy: 0.7479 - loss: 0.5108 - val_accuracy: 0.7344 - val_loss: 0.5347\n",
            "Epoch 4/5\n",
            "\u001b[1m390/390\u001b[0m \u001b[32m━━━━━━━━━━━━━━━━━━━━\u001b[0m\u001b[37m\u001b[0m \u001b[1m15s\u001b[0m 39ms/step - accuracy: 0.8160 - loss: 0.4082 - val_accuracy: 0.8125 - val_loss: 0.4499\n",
            "Epoch 5/5\n",
            "\u001b[1m390/390\u001b[0m \u001b[32m━━━━━━━━━━━━━━━━━━━━\u001b[0m\u001b[37m\u001b[0m \u001b[1m15s\u001b[0m 39ms/step - accuracy: 0.8361 - loss: 0.3804 - val_accuracy: 0.5469 - val_loss: 0.7580\n"
          ]
        }
      ]
    },
    {
      "cell_type": "markdown",
      "source": [
        "# Evaluating the model"
      ],
      "metadata": {
        "id": "fiPYdvbzSCSa"
      }
    },
    {
      "cell_type": "code",
      "source": [
        "print(\"Simple_RNN Score---> \",RNN_model.evaluate(x_test, y_test,verbose=0))"
      ],
      "metadata": {
        "colab": {
          "base_uri": "https://localhost:8080/"
        },
        "id": "OPSS4uetSGoJ",
        "outputId": "d44b1469-1d46-4142-9772-cc1a1cad716f"
      },
      "execution_count": 21,
      "outputs": [
        {
          "output_type": "stream",
          "name": "stdout",
          "text": [
            "Simple_RNN Score--->  [0.6564724445343018, 0.6184800267219543]\n"
          ]
        }
      ]
    }
  ]
}