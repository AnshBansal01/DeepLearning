{
  "nbformat": 4,
  "nbformat_minor": 0,
  "metadata": {
    "colab": {
      "provenance": [],
      "toc_visible": true,
      "gpuType": "T4",
      "authorship_tag": "ABX9TyOKV8Dopvw3OMw0jhaYQtf1",
      "include_colab_link": true
    },
    "kernelspec": {
      "name": "python3",
      "display_name": "Python 3"
    },
    "language_info": {
      "name": "python"
    },
    "accelerator": "GPU"
  },
  "cells": [
    {
      "cell_type": "markdown",
      "metadata": {
        "id": "view-in-github",
        "colab_type": "text"
      },
      "source": [
        "<a href=\"https://colab.research.google.com/github/AnshBansal01/DeepLearning/blob/main/Lab12_9_24_VGG16.ipynb\" target=\"_parent\"><img src=\"https://colab.research.google.com/assets/colab-badge.svg\" alt=\"Open In Colab\"/></a>"
      ]
    },
    {
      "cell_type": "markdown",
      "source": [
        "#Importing required library\n"
      ],
      "metadata": {
        "id": "qBt9tJK6MPXf"
      }
    },
    {
      "cell_type": "code",
      "source": [
        "import tensorflow as tf\n",
        "from tensorflow.keras import layers, models\n",
        "from tensorflow.keras.applications import VGG16\n",
        "from tensorflow.keras.datasets import mnist\n",
        "from tensorflow.keras.utils import to_categorical"
      ],
      "metadata": {
        "id": "LIe1Pcq2MWJw"
      },
      "execution_count": 1,
      "outputs": []
    },
    {
      "cell_type": "markdown",
      "source": [
        "# Load The mnist dataset"
      ],
      "metadata": {
        "id": "UllQtls6MfH9"
      }
    },
    {
      "cell_type": "code",
      "source": [
        "(train_images, train_labels), (test_images,\n",
        "test_labels) = mnist.load_data()"
      ],
      "metadata": {
        "colab": {
          "base_uri": "https://localhost:8080/"
        },
        "id": "ewTxNwEUMnwE",
        "outputId": "2981f1ff-a9a7-4d16-c6f9-8bf889139a82"
      },
      "execution_count": 2,
      "outputs": [
        {
          "output_type": "stream",
          "name": "stdout",
          "text": [
            "Downloading data from https://storage.googleapis.com/tensorflow/tf-keras-datasets/mnist.npz\n",
            "\u001b[1m11490434/11490434\u001b[0m \u001b[32m━━━━━━━━━━━━━━━━━━━━\u001b[0m\u001b[37m\u001b[0m \u001b[1m0s\u001b[0m 0us/step\n"
          ]
        }
      ]
    },
    {
      "cell_type": "markdown",
      "source": [
        "# Preprocess"
      ],
      "metadata": {
        "id": "6K6PENNHMsu7"
      }
    },
    {
      "cell_type": "code",
      "source": [
        "train_images = train_images.reshape((60000, 28, 28,\n",
        "1)).astype('float32') / 255\n",
        "test_images = test_images.reshape((10000, 28, 28,\n",
        "1)).astype('float32') / 255"
      ],
      "metadata": {
        "id": "DKW6z2mlMxH1"
      },
      "execution_count": 3,
      "outputs": []
    },
    {
      "cell_type": "markdown",
      "source": [
        "#Resize\n"
      ],
      "metadata": {
        "id": "8vZu0XBsM6zN"
      }
    },
    {
      "cell_type": "code",
      "source": [
        "train_images_resized = tf.image.resize(train_images,\n",
        "(32, 32))\n",
        "test_images_resized = tf.image.resize(test_images,\n",
        "(32, 32))"
      ],
      "metadata": {
        "id": "R06nAE7tM94U"
      },
      "execution_count": 4,
      "outputs": []
    },
    {
      "cell_type": "markdown",
      "source": [
        "# New Section"
      ],
      "metadata": {
        "id": "tLmhhaZONEE6"
      }
    },
    {
      "cell_type": "code",
      "source": [
        "train_images_rgb =tf.image.grayscale_to_rgb(train_images_resized)\n",
        "test_images_rgb =tf.image.grayscale_to_rgb(test_images_resized)"
      ],
      "metadata": {
        "id": "4VDtubR8NKr6"
      },
      "execution_count": 6,
      "outputs": []
    },
    {
      "cell_type": "markdown",
      "source": [
        "# Converting labels to categorical"
      ],
      "metadata": {
        "id": "Rw6CjFhZNgrg"
      }
    },
    {
      "cell_type": "code",
      "source": [
        "train_labels = to_categorical(train_labels, 10)\n",
        "test_labels = to_categorical(test_labels, 10)"
      ],
      "metadata": {
        "id": "icyWxs7ZNnCb"
      },
      "execution_count": 7,
      "outputs": []
    },
    {
      "cell_type": "markdown",
      "source": [
        "# Load pretrained mobilev2"
      ],
      "metadata": {
        "id": "07ARKDilNrml"
      }
    },
    {
      "cell_type": "code",
      "source": [
        "base_model = VGG16(weights='imagenet', include_top=False,\n",
        "input_shape=(32, 32, 3))"
      ],
      "metadata": {
        "colab": {
          "base_uri": "https://localhost:8080/"
        },
        "id": "tPAIZMKfNvZz",
        "outputId": "59506f82-b0c6-4a03-baf2-1852f240780d"
      },
      "execution_count": 8,
      "outputs": [
        {
          "output_type": "stream",
          "name": "stdout",
          "text": [
            "Downloading data from https://storage.googleapis.com/tensorflow/keras-applications/vgg16/vgg16_weights_tf_dim_ordering_tf_kernels_notop.h5\n",
            "\u001b[1m58889256/58889256\u001b[0m \u001b[32m━━━━━━━━━━━━━━━━━━━━\u001b[0m\u001b[37m\u001b[0m \u001b[1m0s\u001b[0m 0us/step\n"
          ]
        }
      ]
    },
    {
      "cell_type": "markdown",
      "source": [
        "#Freeze Pretrained layer"
      ],
      "metadata": {
        "id": "A5cedvycN0Kq"
      }
    },
    {
      "cell_type": "code",
      "source": [
        "base_model.trainable=False"
      ],
      "metadata": {
        "id": "pQurhRxQN56e"
      },
      "execution_count": 9,
      "outputs": []
    },
    {
      "cell_type": "markdown",
      "source": [
        "#Add custom layer"
      ],
      "metadata": {
        "id": "NewKFyJgOCou"
      }
    },
    {
      "cell_type": "code",
      "source": [
        "model = models.Sequential([\n",
        "base_model, # Use VGG16 as the feature extractor\n",
        "layers.Flatten(), # Flatten the output of VGG16 to feed it to the Dense layer\n",
        "layers.Dense(64, activation='relu'), # Add a Dense layer with 64 units and ReLU activation\n",
        "layers.Dense(10, activation='softmax') # Output layer for classification into 10 classes (digits)\n",
        "])"
      ],
      "metadata": {
        "id": "xRgILrmTOGr4"
      },
      "execution_count": 13,
      "outputs": []
    },
    {
      "cell_type": "markdown",
      "source": [
        "# Compile model"
      ],
      "metadata": {
        "id": "e9JFbI5eOXFF"
      }
    },
    {
      "cell_type": "code",
      "source": [
        "model.compile(optimizer='adam',\n",
        "loss='categorical_crossentropy',\n",
        "metrics=['accuracy'])"
      ],
      "metadata": {
        "id": "Bs7c_HdPOa5G"
      },
      "execution_count": 14,
      "outputs": []
    },
    {
      "cell_type": "markdown",
      "source": [
        "# Train and Evaluate"
      ],
      "metadata": {
        "id": "B9LbifEtOjKC"
      }
    },
    {
      "cell_type": "code",
      "source": [
        "# Train the model\n",
        "history = model.fit(train_images_rgb, train_labels,\n",
        "epochs=5, batch_size=64, validation_split=0.2)\n",
        "# Evaluate the model\n",
        "test_loss, test_acc = model.evaluate(test_images_rgb,\n",
        "test_labels)\n",
        "print(f'Test Accuracy: {test_acc}')"
      ],
      "metadata": {
        "colab": {
          "base_uri": "https://localhost:8080/"
        },
        "id": "wZsFX1twOnhv",
        "outputId": "655c4a7f-a267-41bd-ba60-0e55a54ee3f9"
      },
      "execution_count": 15,
      "outputs": [
        {
          "output_type": "stream",
          "name": "stdout",
          "text": [
            "Epoch 1/5\n",
            "\u001b[1m750/750\u001b[0m \u001b[32m━━━━━━━━━━━━━━━━━━━━\u001b[0m\u001b[37m\u001b[0m \u001b[1m17s\u001b[0m 15ms/step - accuracy: 0.7352 - loss: 0.9193 - val_accuracy: 0.9273 - val_loss: 0.2480\n",
            "Epoch 2/5\n",
            "\u001b[1m750/750\u001b[0m \u001b[32m━━━━━━━━━━━━━━━━━━━━\u001b[0m\u001b[37m\u001b[0m \u001b[1m14s\u001b[0m 12ms/step - accuracy: 0.9359 - loss: 0.2252 - val_accuracy: 0.9492 - val_loss: 0.1693\n",
            "Epoch 3/5\n",
            "\u001b[1m750/750\u001b[0m \u001b[32m━━━━━━━━━━━━━━━━━━━━\u001b[0m\u001b[37m\u001b[0m \u001b[1m10s\u001b[0m 12ms/step - accuracy: 0.9497 - loss: 0.1663 - val_accuracy: 0.9553 - val_loss: 0.1424\n",
            "Epoch 4/5\n",
            "\u001b[1m750/750\u001b[0m \u001b[32m━━━━━━━━━━━━━━━━━━━━\u001b[0m\u001b[37m\u001b[0m \u001b[1m10s\u001b[0m 13ms/step - accuracy: 0.9559 - loss: 0.1419 - val_accuracy: 0.9590 - val_loss: 0.1300\n",
            "Epoch 5/5\n",
            "\u001b[1m750/750\u001b[0m \u001b[32m━━━━━━━━━━━━━━━━━━━━\u001b[0m\u001b[37m\u001b[0m \u001b[1m9s\u001b[0m 12ms/step - accuracy: 0.9628 - loss: 0.1211 - val_accuracy: 0.9576 - val_loss: 0.1295\n",
            "\u001b[1m313/313\u001b[0m \u001b[32m━━━━━━━━━━━━━━━━━━━━\u001b[0m\u001b[37m\u001b[0m \u001b[1m4s\u001b[0m 12ms/step - accuracy: 0.9571 - loss: 0.1313\n",
            "Test Accuracy: 0.9613999724388123\n"
          ]
        }
      ]
    }
  ]
}